{
 "cells": [
  {
   "cell_type": "code",
   "execution_count": 4,
   "metadata": {},
   "outputs": [
    {
     "name": "stdout",
     "output_type": "stream",
     "text": [
      "Method 1\n",
      "current weight:0\n",
      "adding banana(15)\n",
      "current weight:15\n",
      "adding mattress(24)\n",
      "current weight:39\n",
      "adding cheese(5)\n",
      "current weight:44\n",
      "adding apple(20)\n",
      "current weight:64\n",
      "adding table(50)\n",
      "current weight:114\n",
      "break the loop now!\n",
      "\n",
      " Final Weight:114\n",
      "Final Items:['banana', 'mattress', 'cheese', 'apple', 'table']\n",
      "Method 2\n",
      "current weight:0\n",
      "adding banana(15)\n",
      "current weight:15\n",
      "adding mattress(24)\n",
      "current weight:39\n",
      "adding cheese(5)\n",
      "current weight:44\n",
      "adding apple(20)\n",
      "current weight:64\n",
      "skippingtable(50)\n",
      "current weight:64\n",
      "adding watermalon(20)\n",
      "current weight:84\n",
      "adding orange(15)\n",
      "\n",
      " Final Weight:99\n",
      "Final Items:['banana', 'mattress', 'cheese', 'apple', 'watermalon', 'orange']\n"
     ]
    }
   ],
   "source": [
    "manifest=[('banana',15),['mattress',24],('cheese',5),('apple',20),('table',50),('watermalon',20),('orange',15)]\n",
    "print('Method 1')\n",
    "weight = 0\n",
    "items=[]\n",
    "for cargo_name, cargo_weight in manifest:\n",
    "    print('current weight:{}'.format(weight))\n",
    "    if weight>=100:\n",
    "        print('break the loop now!')\n",
    "        break\n",
    "    else:\n",
    "        print('adding {}({})'.format(cargo_name,cargo_weight))\n",
    "        items.append(cargo_name)\n",
    "        weight += cargo_weight\n",
    "print('\\n Final Weight:{}'.format(weight))\n",
    "print('Final Items:{}'.format(items))\n",
    "\n",
    "print('Method 2')\n",
    "weight = 0\n",
    "items=[]\n",
    "for cargo_name, cargo_weight in manifest:\n",
    "    print('current weight:{}'.format(weight))\n",
    "    if weight>=100:\n",
    "        print('break the loop now!')\n",
    "        break\n",
    "    elif weight + cargo_weight > 100:\n",
    "        print('skipping{}({})'.format(cargo_name,cargo_weight))\n",
    "        continue\n",
    "    else:\n",
    "        print('adding {}({})'.format(cargo_name,cargo_weight))\n",
    "        items.append(cargo_name)\n",
    "        weight += cargo_weight\n",
    "print('\\n Final Weight:{}'.format(weight))\n",
    "print('Final Items:{}'.format(items))\n"
   ]
  },
  {
   "cell_type": "code",
   "execution_count": null,
   "metadata": {},
   "outputs": [],
   "source": []
  }
 ],
 "metadata": {
  "kernelspec": {
   "display_name": "Python 3",
   "language": "python",
   "name": "python3"
  },
  "language_info": {
   "codemirror_mode": {
    "name": "ipython",
    "version": 3
   },
   "file_extension": ".py",
   "mimetype": "text/x-python",
   "name": "python",
   "nbconvert_exporter": "python",
   "pygments_lexer": "ipython3",
   "version": "3.7.6"
  }
 },
 "nbformat": 4,
 "nbformat_minor": 4
}
