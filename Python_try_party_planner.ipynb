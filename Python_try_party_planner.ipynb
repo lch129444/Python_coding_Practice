{
 "cells": [
  {
   "cell_type": "code",
   "execution_count": 3,
   "metadata": {},
   "outputs": [
    {
     "name": "stdin",
     "output_type": "stream",
     "text": [
      "How many cookies? 15\n",
      "How many people? 2\n"
     ]
    },
    {
     "name": "stdout",
     "output_type": "stream",
     "text": [
      "\n",
      "Let's party! We'll have 2 people attending.          Each will eat 7 cookies with 1 leftover.\n"
     ]
    },
    {
     "name": "stdin",
     "output_type": "stream",
     "text": [
      "\n",
      "Would you like to party? (y or n) n\n"
     ]
    }
   ],
   "source": [
    "def party_planner(cookie,people):\n",
    "    leftover = None\n",
    "    num_each = None\n",
    "    try:\n",
    "        num_each = cookie // people\n",
    "        leftover = cookie % people\n",
    "    except ZeroDivisionError:\n",
    "        print('Oops, you entered 0 people will be attending.')\n",
    "        print('Please enter a good number of people for a party.')\n",
    "    return(num_each,leftover)\n",
    "\n",
    "#main code block\n",
    "lets_party = 'y'\n",
    "while lets_party == 'y':\n",
    "    cookie = int(input('How many cookies?'))\n",
    "    people = int(input('How many people?'))\n",
    "    cookie_each,leftover = party_planner(cookie,people)\n",
    "    \n",
    "    #if cookies_each is not None\n",
    "    if cookie_each:\n",
    "        message = '\\nLet\\'s party! We\\'ll have {} people attending.  \\\n",
    "        Each will eat {} cookies with {} leftover.'\n",
    "        print(message.format(people,cookie_each,leftover))\n",
    "    \n",
    "    lets_party = input('\\nWould you like to party? (y or n)')"
   ]
  },
  {
   "cell_type": "code",
   "execution_count": null,
   "metadata": {},
   "outputs": [],
   "source": []
  }
 ],
 "metadata": {
  "kernelspec": {
   "display_name": "Python 3",
   "language": "python",
   "name": "python3"
  },
  "language_info": {
   "codemirror_mode": {
    "name": "ipython",
    "version": 3
   },
   "file_extension": ".py",
   "mimetype": "text/x-python",
   "name": "python",
   "nbconvert_exporter": "python",
   "pygments_lexer": "ipython3",
   "version": "3.7.6"
  }
 },
 "nbformat": 4,
 "nbformat_minor": 4
}
