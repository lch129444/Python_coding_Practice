{
 "cells": [
  {
   "cell_type": "code",
   "execution_count": 4,
   "metadata": {},
   "outputs": [
    {
     "name": "stdout",
     "output_type": "stream",
     "text": [
      "apples     10\n",
      "oranges     6\n",
      "bananas     3\n",
      "dtype: int64\n",
      "+2 apples     12\n",
      "oranges     8\n",
      "bananas     5\n",
      "dtype: int64\n",
      "-2 apples     8\n",
      "oranges    4\n",
      "bananas    1\n",
      "dtype: int64\n",
      "*2 apples     20\n",
      "oranges    12\n",
      "bananas     6\n",
      "dtype: int64\n",
      "/2 apples     5.0\n",
      "oranges    3.0\n",
      "bananas    1.5\n",
      "dtype: float64\n"
     ]
    }
   ],
   "source": [
    "import pandas as pd\n",
    "fruits = pd.Series(data = [10,6,3],index = ['apples','oranges','bananas'])\n",
    "print(fruits)\n",
    "print('+2',fruits+2)\n",
    "print('-2',fruits-2)\n",
    "print('*2',fruits*2)\n",
    "print('/2',fruits/2)"
   ]
  },
  {
   "cell_type": "code",
   "execution_count": 9,
   "metadata": {},
   "outputs": [
    {
     "name": "stdout",
     "output_type": "stream",
     "text": [
      "Exp apples     22026.465795\n",
      "oranges      403.428793\n",
      "bananas       20.085537\n",
      "dtype: float64\n",
      "Sqrt apples     3.162278\n",
      "oranges    2.449490\n",
      "bananas    1.732051\n",
      "dtype: float64\n",
      "Power apples     1000\n",
      "oranges     216\n",
      "bananas      27\n",
      "dtype: int64\n"
     ]
    }
   ],
   "source": [
    "import numpy as np\n",
    "print('Exp',np.exp(fruits))\n",
    "print('Sqrt',np.sqrt(fruits))\n",
    "print('Power',np.power(fruits,3))"
   ]
  },
  {
   "cell_type": "code",
   "execution_count": 18,
   "metadata": {},
   "outputs": [
    {
     "name": "stdout",
     "output_type": "stream",
     "text": [
      "apples     10\n",
      "oranges     6\n",
      "bananas     3\n",
      "dtype: int64\n",
      "b+2 bananas    5\n",
      "dtype: int64\n",
      "a-2 apples    8\n",
      "dtype: int64\n",
      "double apples     20\n",
      "oranges    12\n",
      "dtype: int64\n",
      "div apples     5.0\n",
      "oranges    3.0\n",
      "dtype: float64\n"
     ]
    }
   ],
   "source": [
    "print(fruits)\n",
    "print('b+2',fruits[['bananas']]+2)\n",
    "print('a-2',fruits.iloc[[0]]-2)\n",
    "print('double',fruits[['apples','oranges']]*2)\n",
    "print('div',fruits.loc[['apples','oranges']]/2)"
   ]
  },
  {
   "cell_type": "code",
   "execution_count": 23,
   "metadata": {},
   "outputs": [
    {
     "data": {
      "text/plain": [
       "apples     20\n",
       "oranges    12\n",
       "bananas     6\n",
       "dtype: int64"
      ]
     },
     "execution_count": 23,
     "metadata": {},
     "output_type": "execute_result"
    }
   ],
   "source": [
    "fruits*2"
   ]
  },
  {
   "cell_type": "code",
   "execution_count": 25,
   "metadata": {},
   "outputs": [
    {
     "data": {
      "text/plain": [
       "apples         20\n",
       "oranges        12\n",
       "bananas    yesyes\n",
       "dtype: object"
      ]
     },
     "execution_count": 25,
     "metadata": {},
     "output_type": "execute_result"
    }
   ],
   "source": [
    "groceries = pd.Series(data = [10,6,'yes'],index = ['apples','oranges','bananas'])\n",
    "groceries*2"
   ]
  },
  {
   "cell_type": "code",
   "execution_count": 27,
   "metadata": {},
   "outputs": [
    {
     "name": "stdout",
     "output_type": "stream",
     "text": [
      "Earth     8.311111\n",
      "Mars     15.438889\n",
      "Venus     6.011111\n",
      "dtype: float64\n"
     ]
    }
   ],
   "source": [
    "distance_from_sun = [149.6,1433.5,277.9,108.2,778.6]\n",
    "planets = ['Earth','Saturn','Mars','Venus','Jupiter']\n",
    "dist_planets = pd.Series(data = distance_from_sun,index =planets)\n",
    "time_light = dist_planets/18\n",
    "close_planets = time_light[time_light<40]\n",
    "print(close_planets)"
   ]
  }
 ],
 "metadata": {
  "kernelspec": {
   "display_name": "Python 3",
   "language": "python",
   "name": "python3"
  },
  "language_info": {
   "codemirror_mode": {
    "name": "ipython",
    "version": 3
   },
   "file_extension": ".py",
   "mimetype": "text/x-python",
   "name": "python",
   "nbconvert_exporter": "python",
   "pygments_lexer": "ipython3",
   "version": "3.7.6"
  }
 },
 "nbformat": 4,
 "nbformat_minor": 4
}
