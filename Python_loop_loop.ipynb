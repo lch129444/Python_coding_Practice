{
 "cells": [
  {
   "cell_type": "code",
   "execution_count": 3,
   "metadata": {},
   "outputs": [
    {
     "name": "stdout",
     "output_type": "stream",
     "text": [
      "26 is not a prime, because 2 is a factor of 26.\n",
      "39 is not a prime, because 3 is a factor of 39.\n",
      "51 is not a prime, because 3 is a factor of 51.\n",
      "28 is not a prime, because 2 is a factor of 28.\n",
      "37 is a prime.\n",
      "85 is not a prime, because 5 is a factor of 85.\n"
     ]
    }
   ],
   "source": [
    "check_prime = [26,39,51,28,37,85]\n",
    "for num in check_prime:\n",
    "    for i in range(2,num):\n",
    "        if (num%i) == 0:\n",
    "            print('{} is not a prime, because {} is a factor of {}.'.format(num,i,num))\n",
    "            break\n",
    "        if i == num-1:\n",
    "            print('{} is a prime.'.format(num))"
   ]
  }
 ],
 "metadata": {
  "kernelspec": {
   "display_name": "Python 3",
   "language": "python",
   "name": "python3"
  },
  "language_info": {
   "codemirror_mode": {
    "name": "ipython",
    "version": 3
   },
   "file_extension": ".py",
   "mimetype": "text/x-python",
   "name": "python",
   "nbconvert_exporter": "python",
   "pygments_lexer": "ipython3",
   "version": "3.7.6"
  }
 },
 "nbformat": 4,
 "nbformat_minor": 4
}
