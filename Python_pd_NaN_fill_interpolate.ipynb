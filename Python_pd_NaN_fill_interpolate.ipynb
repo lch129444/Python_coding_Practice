{
 "cells": [
  {
   "cell_type": "code",
   "execution_count": 10,
   "metadata": {},
   "outputs": [
    {
     "name": "stdout",
     "output_type": "stream",
     "text": [
      "original\n",
      "          bikes  pants  watches  shirts  shoes  suits  glasses\n",
      "store 1     20     30       35    15.0      8   45.0      NaN\n",
      "store 2     15      5       10     2.0      5    7.0     50.0\n",
      "store 3     20     30       35     NaN     10    NaN      4.0\n"
     ]
    }
   ],
   "source": [
    "import pandas as pd\n",
    "items2 = [{'bikes':20,'pants':30,'watches':35,'shirts':15,'shoes':8,'suits':45},\n",
    "{'watches':10,'glasses':50,'bikes':15,'pants':5,'shirts':2,'shoes':5,'suits':7},\n",
    "{'bikes':20,'pants':30,'watches':35,'glasses':4,'shoes':10}]\n",
    "store_items = pd.DataFrame(items2,index=['store 1','store 2','store 3'])\n",
    "print('original\\n',store_items)"
   ]
  },
  {
   "cell_type": "code",
   "execution_count": 14,
   "metadata": {},
   "outputs": [
    {
     "name": "stdout",
     "output_type": "stream",
     "text": [
      "isnull\n",
      "          bikes  pants  watches  shirts  shoes  suits  glasses\n",
      "store 1  False  False    False   False  False  False     True\n",
      "store 2  False  False    False   False  False  False    False\n",
      "store 3  False  False    False    True  False   True    False\n",
      "sum\n",
      " bikes      0\n",
      "pants      0\n",
      "watches    0\n",
      "shirts     1\n",
      "shoes      0\n",
      "suits      1\n",
      "glasses    1\n",
      "dtype: int64\n",
      "total\n",
      " 3\n"
     ]
    }
   ],
   "source": [
    "print('isnull\\n',store_items.isnull())\n",
    "print('sum\\n',store_items.isnull().sum())\n",
    "print('total\\n',store_items.isnull().sum().sum())"
   ]
  },
  {
   "cell_type": "code",
   "execution_count": 16,
   "metadata": {},
   "outputs": [
    {
     "name": "stdout",
     "output_type": "stream",
     "text": [
      "bikes      3\n",
      "pants      3\n",
      "watches    3\n",
      "shirts     2\n",
      "shoes      3\n",
      "suits      2\n",
      "glasses    2\n",
      "dtype: int64\n"
     ]
    }
   ],
   "source": [
    "print(store_items.count())\n",
    "#count non-NaN values"
   ]
  },
  {
   "cell_type": "code",
   "execution_count": 19,
   "metadata": {},
   "outputs": [
    {
     "name": "stdout",
     "output_type": "stream",
     "text": [
      "de_row          bikes  pants  watches  shirts  shoes  suits  glasses\n",
      "store 2     15      5       10     2.0      5    7.0     50.0\n",
      "original          bikes  pants  watches  shirts  shoes  suits  glasses\n",
      "store 1     20     30       35    15.0      8   45.0      NaN\n",
      "store 2     15      5       10     2.0      5    7.0     50.0\n",
      "store 3     20     30       35     NaN     10    NaN      4.0\n"
     ]
    }
   ],
   "source": [
    "print('de_row',store_items.dropna(axis=0))\n",
    "#delete row with NaN \n",
    "# out of place, no change to original\n",
    "print('original',store_items)"
   ]
  },
  {
   "cell_type": "code",
   "execution_count": 22,
   "metadata": {},
   "outputs": [
    {
     "name": "stdout",
     "output_type": "stream",
     "text": [
      "de_co          bikes  pants  watches  shoes\n",
      "store 1     20     30       35      8\n",
      "store 2     15      5       10      5\n",
      "store 3     20     30       35     10\n",
      "original          bikes  pants  watches  shirts  shoes  suits  glasses\n",
      "store 1     20     30       35    15.0      8   45.0      NaN\n",
      "store 2     15      5       10     2.0      5    7.0     50.0\n",
      "store 3     20     30       35     NaN     10    NaN      4.0\n"
     ]
    }
   ],
   "source": [
    "print('de_co',store_items.dropna(axis=1))\n",
    "#delete column with NaN\n",
    "print('original',store_items)"
   ]
  },
  {
   "cell_type": "code",
   "execution_count": 28,
   "metadata": {},
   "outputs": [
    {
     "name": "stdout",
     "output_type": "stream",
     "text": [
      "original\n",
      "          bikes  pants  watches  shirts  shoes  suits  glasses\n",
      "store 1     20     30       35    15.0      8   45.0      NaN\n",
      "store 2     15      5       10     2.0      5    7.0     50.0\n",
      "store 3     20     30       35     NaN     10    NaN      4.0\n",
      "in_place None\n",
      "current          bikes  pants  watches  shoes\n",
      "store 1     20     30       35      8\n",
      "store 2     15      5       10      5\n",
      "store 3     20     30       35     10\n"
     ]
    }
   ],
   "source": [
    "import pandas as pd\n",
    "items2 = [{'bikes':20,'pants':30,'watches':35,'shirts':15,'shoes':8,'suits':45},\n",
    "{'watches':10,'glasses':50,'bikes':15,'pants':5,'shirts':2,'shoes':5,'suits':7},\n",
    "{'bikes':20,'pants':30,'watches':35,'glasses':4,'shoes':10}]\n",
    "store_items = pd.DataFrame(items2,index=['store 1','store 2','store 3'])\n",
    "print('original\\n',store_items)\n",
    "store_items_d = store_items.dropna(axis=1,inplace=True)\n",
    "print('in_place',store_items_d)\n",
    "print('current',store_items)"
   ]
  },
  {
   "cell_type": "code",
   "execution_count": 31,
   "metadata": {},
   "outputs": [
    {
     "name": "stdout",
     "output_type": "stream",
     "text": [
      "original\n",
      "          bikes  pants  watches  shirts  shoes  suits  glasses\n",
      "store 1     20     30       35    15.0      8   45.0      NaN\n",
      "store 2     15      5       10     2.0      5    7.0     50.0\n",
      "store 3     20     30       35     NaN     10    NaN      4.0\n",
      "fill_0\n",
      "          bikes  pants  watches  shirts  shoes  suits  glasses\n",
      "store 1     20     30       35    15.0      8   45.0      0.0\n",
      "store 2     15      5       10     2.0      5    7.0     50.0\n",
      "store 3     20     30       35     0.0     10    0.0      4.0\n"
     ]
    }
   ],
   "source": [
    "items2 = [{'bikes':20,'pants':30,'watches':35,'shirts':15,'shoes':8,'suits':45},\n",
    "{'watches':10,'glasses':50,'bikes':15,'pants':5,'shirts':2,'shoes':5,'suits':7},\n",
    "{'bikes':20,'pants':30,'watches':35,'glasses':4,'shoes':10}]\n",
    "store_items = pd.DataFrame(items2,index=['store 1','store 2','store 3'])\n",
    "print('original\\n',store_items)\n",
    "print('fill_0\\n',store_items.fillna(0))"
   ]
  },
  {
   "cell_type": "code",
   "execution_count": 33,
   "metadata": {},
   "outputs": [
    {
     "name": "stdout",
     "output_type": "stream",
     "text": [
      "original\n",
      "          bikes  pants  watches  shirts  shoes  suits  glasses\n",
      "store 1     20     30       35    15.0      8   45.0      NaN\n",
      "store 2     15      5       10     2.0      5    7.0     50.0\n",
      "store 3     20     30       35     NaN     10    NaN      4.0\n",
      "fill_forward          bikes  pants  watches  shirts  shoes  suits  glasses\n",
      "store 1     20     30       35    15.0      8   45.0      NaN\n",
      "store 2     15      5       10     2.0      5    7.0     50.0\n",
      "store 3     20     30       35     2.0     10    7.0      4.0\n"
     ]
    }
   ],
   "source": [
    "items2 = [{'bikes':20,'pants':30,'watches':35,'shirts':15,'shoes':8,'suits':45},\n",
    "{'watches':10,'glasses':50,'bikes':15,'pants':5,'shirts':2,'shoes':5,'suits':7},\n",
    "{'bikes':20,'pants':30,'watches':35,'glasses':4,'shoes':10}]\n",
    "store_items = pd.DataFrame(items2,index=['store 1','store 2','store 3'])\n",
    "print('original\\n',store_items)\n",
    "print('fill_forward',store_items.fillna(method='ffill',axis=0))\n",
    "#forward fill in row, out of place"
   ]
  },
  {
   "cell_type": "code",
   "execution_count": 35,
   "metadata": {},
   "outputs": [
    {
     "name": "stdout",
     "output_type": "stream",
     "text": [
      "original\n",
      "          bikes  pants  watches  shirts  shoes  suits  glasses\n",
      "store 1     20     30       35    15.0      8   45.0      NaN\n",
      "store 2     15      5       10     2.0      5    7.0     50.0\n",
      "store 3     20     30       35     NaN     10    NaN      4.0\n",
      "fill_forward          bikes  pants  watches  shirts  shoes  suits  glasses\n",
      "store 1   20.0   30.0     35.0    15.0    8.0   45.0     45.0\n",
      "store 2   15.0    5.0     10.0     2.0    5.0    7.0     50.0\n",
      "store 3   20.0   30.0     35.0    35.0   10.0   10.0      4.0\n"
     ]
    }
   ],
   "source": [
    "items2 = [{'bikes':20,'pants':30,'watches':35,'shirts':15,'shoes':8,'suits':45},\n",
    "{'watches':10,'glasses':50,'bikes':15,'pants':5,'shirts':2,'shoes':5,'suits':7},\n",
    "{'bikes':20,'pants':30,'watches':35,'glasses':4,'shoes':10}]\n",
    "store_items = pd.DataFrame(items2,index=['store 1','store 2','store 3'])\n",
    "print('original\\n',store_items)\n",
    "print('fill_forward',store_items.fillna(method='ffill',axis=1))\n",
    "#forward fill in column, out of place"
   ]
  },
  {
   "cell_type": "code",
   "execution_count": 37,
   "metadata": {},
   "outputs": [
    {
     "name": "stdout",
     "output_type": "stream",
     "text": [
      "original\n",
      "          bikes  pants  watches  shirts  shoes  suits  glasses\n",
      "store 1     20     30       35    15.0      8   45.0      NaN\n",
      "store 2     15      5       10     2.0      5    7.0     50.0\n",
      "store 3     20     30       35     NaN     10    NaN      4.0\n",
      "fill_forward None\n",
      "current          bikes  pants  watches  shirts  shoes  suits  glasses\n",
      "store 1     20     30       35    15.0      8   45.0      NaN\n",
      "store 2     15      5       10     2.0      5    7.0     50.0\n",
      "store 3     20     30       35     2.0     10    7.0      4.0\n"
     ]
    }
   ],
   "source": [
    "items2 = [{'bikes':20,'pants':30,'watches':35,'shirts':15,'shoes':8,'suits':45},\n",
    "{'watches':10,'glasses':50,'bikes':15,'pants':5,'shirts':2,'shoes':5,'suits':7},\n",
    "{'bikes':20,'pants':30,'watches':35,'glasses':4,'shoes':10}]\n",
    "store_items = pd.DataFrame(items2,index=['store 1','store 2','store 3'])\n",
    "print('original\\n',store_items)\n",
    "print('fill_forward',store_items.fillna(method='ffill',axis=0,inplace=True))\n",
    "#forward fill in row, in place\n",
    "print('current',store_items)"
   ]
  },
  {
   "cell_type": "code",
   "execution_count": 39,
   "metadata": {},
   "outputs": [
    {
     "name": "stdout",
     "output_type": "stream",
     "text": [
      "original\n",
      "          bikes  pants  watches  shirts  shoes  suits  glasses\n",
      "store 1     20     30       35    15.0      8   45.0      NaN\n",
      "store 2     15      5       10     2.0      5    7.0     50.0\n",
      "store 3     20     30       35     NaN     10    NaN      4.0\n",
      "fill_lin          bikes  pants  watches  shirts  shoes  suits  glasses\n",
      "store 1     20     30       35    15.0      8   45.0      NaN\n",
      "store 2     15      5       10     2.0      5    7.0     50.0\n",
      "store 3     20     30       35     2.0     10    7.0      4.0\n"
     ]
    }
   ],
   "source": [
    "items2 = [{'bikes':20,'pants':30,'watches':35,'shirts':15,'shoes':8,'suits':45},\n",
    "{'watches':10,'glasses':50,'bikes':15,'pants':5,'shirts':2,'shoes':5,'suits':7},\n",
    "{'bikes':20,'pants':30,'watches':35,'glasses':4,'shoes':10}]\n",
    "store_items = pd.DataFrame(items2,index=['store 1','store 2','store 3'])\n",
    "print('original\\n',store_items)\n",
    "print('fill_lin',store_items.interpolate(method='linear',axis=0))\n",
    "#fill in liner value out of place,0 is for column value\n",
    "#store 1 not replace because as first row, no data before it to calculate"
   ]
  },
  {
   "cell_type": "code",
   "execution_count": 41,
   "metadata": {},
   "outputs": [
    {
     "name": "stdout",
     "output_type": "stream",
     "text": [
      "fill_lin_r          bikes  pants  watches  shirts  shoes  suits  glasses\n",
      "store 1   20.0   30.0     35.0    15.0    8.0   45.0     45.0\n",
      "store 2   15.0    5.0     10.0     2.0    5.0    7.0     50.0\n",
      "store 3   20.0   30.0     35.0    22.5   10.0    7.0      4.0\n"
     ]
    }
   ],
   "source": [
    "print('fill_lin_r',store_items.interpolate(method='linear',axis=1))\n",
    "#in liner value out of place, use row values"
   ]
  },
  {
   "cell_type": "code",
   "execution_count": 43,
   "metadata": {},
   "outputs": [
    {
     "name": "stdout",
     "output_type": "stream",
     "text": [
      "fill_b          bikes  pants  watches  shirts  shoes  suits  glasses\n",
      "store 1     20     30       35    15.0      8   45.0     50.0\n",
      "store 2     15      5       10     2.0      5    7.0     50.0\n",
      "store 3     20     30       35     NaN     10    NaN      4.0\n"
     ]
    }
   ],
   "source": [
    "print('fill_b',store_items.fillna(method='backfill',axis=0))\n",
    "#replace backward with column"
   ]
  },
  {
   "cell_type": "code",
   "execution_count": 44,
   "metadata": {},
   "outputs": [
    {
     "name": "stdout",
     "output_type": "stream",
     "text": [
      "fill_b          bikes  pants  watches  shirts  shoes  suits  glasses\n",
      "store 1   20.0   30.0     35.0    15.0    8.0   45.0      NaN\n",
      "store 2   15.0    5.0     10.0     2.0    5.0    7.0     50.0\n",
      "store 3   20.0   30.0     35.0    10.0   10.0    4.0      4.0\n"
     ]
    }
   ],
   "source": [
    "print('fill_b',store_items.fillna(method='backfill',axis=1))\n",
    "#replace backward with row"
   ]
  }
 ],
 "metadata": {
  "kernelspec": {
   "display_name": "Python 3",
   "language": "python",
   "name": "python3"
  },
  "language_info": {
   "codemirror_mode": {
    "name": "ipython",
    "version": 3
   },
   "file_extension": ".py",
   "mimetype": "text/x-python",
   "name": "python",
   "nbconvert_exporter": "python",
   "pygments_lexer": "ipython3",
   "version": "3.7.6"
  }
 },
 "nbformat": 4,
 "nbformat_minor": 4
}
