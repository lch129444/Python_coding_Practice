{
 "cells": [
  {
   "cell_type": "code",
   "execution_count": 3,
   "metadata": {},
   "outputs": [
    {
     "name": "stdout",
     "output_type": "stream",
     "text": [
      "[[ 0  1  2  3  4]\n",
      " [ 5  6  7  8  9]\n",
      " [10 11 12 13 14]\n",
      " [15 16 17 18 19]]\n"
     ]
    }
   ],
   "source": [
    "import numpy as np\n",
    "y = np.arange(20).reshape(4,5)\n",
    "print(y)"
   ]
  },
  {
   "cell_type": "code",
   "execution_count": 5,
   "metadata": {},
   "outputs": [
    {
     "name": "stdout",
     "output_type": "stream",
     "text": [
      "[[0.2358459  0.1639299  0.67584776 0.39467726]\n",
      " [0.06753666 0.45301615 0.63695793 0.98846033]\n",
      " [0.57021661 0.44348839 0.5450706  0.15166669]]\n"
     ]
    }
   ],
   "source": [
    "z = np.random.random((3,4))\n",
    "print(z)"
   ]
  },
  {
   "cell_type": "code",
   "execution_count": 7,
   "metadata": {},
   "outputs": [
    {
     "name": "stdout",
     "output_type": "stream",
     "text": [
      "[[4 5]\n",
      " [6 5]\n",
      " [7 6]]\n"
     ]
    }
   ],
   "source": [
    "x = np.random.randint(4,10,size=(3,2))\n",
    "print(x)"
   ]
  },
  {
   "cell_type": "code",
   "execution_count": 10,
   "metadata": {},
   "outputs": [
    {
     "name": "stdout",
     "output_type": "stream",
     "text": [
      "[[-1.60716595e-02  4.24298828e-02  8.43868343e-02 ... -1.13868393e-01\n",
      "   1.54583098e-01  5.54649754e-02]\n",
      " [-1.18151232e-02  2.81126528e-02  3.74159564e-03 ...  1.39586576e-01\n",
      "  -7.83555367e-02 -1.48199132e-01]\n",
      " [-4.70624814e-02  1.28769753e-01  8.74307983e-02 ... -8.13856022e-02\n",
      "  -2.41408996e-01  9.31282420e-02]\n",
      " ...\n",
      " [ 1.57018838e-01  1.45155618e-01 -2.39925222e-04 ... -1.07625192e-01\n",
      "   2.63509175e-02 -1.64191420e-01]\n",
      " [-1.28827335e-01 -3.03095995e-01 -3.22998925e-02 ...  4.22841993e-02\n",
      "  -3.51502721e-02  8.99905711e-02]\n",
      " [-5.04197633e-02 -4.27594362e-02  6.64737092e-02 ... -4.19399255e-02\n",
      "  -1.27100012e-02 -1.78503106e-01]]\n",
      "-0.0008608707120822967\n",
      "0.3385933499695364\n",
      "-0.303095994856593\n",
      "n has 597 negative numbers\n",
      "n has 603 positive numbers\n"
     ]
    }
   ],
   "source": [
    "n = np.random.normal(0,0.1,size=(30,40))\n",
    "print(n)\n",
    "print(n.mean())\n",
    "print(n.max())\n",
    "print(n.min())\n",
    "print('n has', (n<0).sum(),'negative numbers')\n",
    "print('n has', (n>0).sum(),'positive numbers')"
   ]
  }
 ],
 "metadata": {
  "kernelspec": {
   "display_name": "Python 3",
   "language": "python",
   "name": "python3"
  },
  "language_info": {
   "codemirror_mode": {
    "name": "ipython",
    "version": 3
   },
   "file_extension": ".py",
   "mimetype": "text/x-python",
   "name": "python",
   "nbconvert_exporter": "python",
   "pygments_lexer": "ipython3",
   "version": "3.7.6"
  }
 },
 "nbformat": 4,
 "nbformat_minor": 4
}
