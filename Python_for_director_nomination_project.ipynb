{
 "cells": [
  {
   "cell_type": "code",
   "execution_count": 25,
   "metadata": {},
   "outputs": [
    {
     "name": "stdout",
     "output_type": "stream",
     "text": [
      "Nomination count:\n",
      "nom_count_dict = {'Norman Tib': 2, 'Wesley Roth': 2, 'Frank B': 2, 'Jack Lee': 1, 'Andrew Young': 1}\n",
      "\n",
      "Winning count:\n",
      "win_count_dict = {'Norman Tib': 1, 'Frank B': 2, 'Jack Lee': 1}\n",
      "\n",
      "The director who won most times and the highest winning times:\n",
      "Method 1\n",
      "most_win_director is['Frank B']\n",
      "highest_winning_count is 2\n",
      "\n",
      "Method 2\n",
      "most_win_director is['Frank B']\n",
      "highest_winning_count is 2\n"
     ]
    }
   ],
   "source": [
    "nominated = {1931:['Norman Tib','Wesley Roth'],1932:['Frank B','Wesley Roth'],1933:['Norman Tib','Jack Lee'],1934:['Frank B','Andrew Young']}\n",
    "winners = {1931:['Norman Tib'],1932:['Frank B'],1933:['Jack Lee'],1934:['Frank B']}\n",
    "#count each director's num of being nominated, count win times\n",
    "nom_count_dict = {}\n",
    "print(\"Nomination count:\")\n",
    "for year, list_dirc in nominated.items():\n",
    "    for director in list_dirc:\n",
    "        if director not in nom_count_dict:\n",
    "            nom_count_dict[director] = 1\n",
    "        else:\n",
    "            nom_count_dict[director] += 1\n",
    "print('nom_count_dict = {}\\n'.format(nom_count_dict))\n",
    "\n",
    "#count each winner's winning times\n",
    "print('Winning count:')\n",
    "win_count_dict = {}\n",
    "for year, winner_list in winners.items():\n",
    "    for winner in winner_list:\n",
    "        win_count_dict[winner] = win_count_dict.get(winner,0)+1\n",
    "print('win_count_dict = {}\\n'.format(win_count_dict))\n",
    "\n",
    "#find the director who win most times and the highest winning times:\n",
    "print('The director who won most times and the highest winning times:')\n",
    "print('Method 1')\n",
    "highest_count = 0\n",
    "most_win_director = []\n",
    "for key, value in win_count_dict.items():\n",
    "    if value > highest_count:\n",
    "        highest_count = value\n",
    "        most_win_director.clear()\n",
    "        #to delete the loser\n",
    "        most_win_director.append(key)\n",
    "    elif value == highest_count:\n",
    "        most_win_director.append(key)\n",
    "        #if not this one, tie directors will be omitted\n",
    "    else:\n",
    "        continue\n",
    "print('most_win_director is{}'.format(most_win_director))\n",
    "print('highest_winning_count is {}'.format(highest_count))\n",
    "\n",
    "\n",
    "print('\\nMethod 2')\n",
    "highest_count = max(win_count_dict.values())\n",
    "#easier way\n",
    "most_win_director = [key for key, value in win_count_dict.items() if value == highest_count]\n",
    "print('most_win_director is{}'.format(most_win_director))\n",
    "print('highest_winning_count is {}'.format(highest_count))"
   ]
  },
  {
   "cell_type": "code",
   "execution_count": null,
   "metadata": {},
   "outputs": [],
   "source": []
  }
 ],
 "metadata": {
  "kernelspec": {
   "display_name": "Python 3",
   "language": "python",
   "name": "python3"
  },
  "language_info": {
   "codemirror_mode": {
    "name": "ipython",
    "version": 3
   },
   "file_extension": ".py",
   "mimetype": "text/x-python",
   "name": "python",
   "nbconvert_exporter": "python",
   "pygments_lexer": "ipython3",
   "version": "3.7.6"
  }
 },
 "nbformat": 4,
 "nbformat_minor": 4
}
