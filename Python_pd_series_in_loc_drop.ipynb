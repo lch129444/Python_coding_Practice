{
 "cells": [
  {
   "cell_type": "code",
   "execution_count": 4,
   "metadata": {},
   "outputs": [
    {
     "data": {
      "text/plain": [
       "eggs      30\n",
       "apples     6\n",
       "milk       y\n",
       "bread      n\n",
       "dtype: object"
      ]
     },
     "execution_count": 4,
     "metadata": {},
     "output_type": "execute_result"
    }
   ],
   "source": [
    "import pandas as pd\n",
    "groceries = pd.Series(data=[30,6,'y','n'],index=['eggs','apples','milk','bread'])\n",
    "groceries"
   ]
  },
  {
   "cell_type": "code",
   "execution_count": 6,
   "metadata": {},
   "outputs": [
    {
     "name": "stdout",
     "output_type": "stream",
     "text": [
      "(4,)\n",
      "1\n",
      "4\n"
     ]
    }
   ],
   "source": [
    "print(groceries.shape)\n",
    "print(groceries.ndim)\n",
    "print(groceries.size)"
   ]
  },
  {
   "cell_type": "code",
   "execution_count": 9,
   "metadata": {},
   "outputs": [
    {
     "name": "stdout",
     "output_type": "stream",
     "text": [
      "[30 6 'y' 'n']\n",
      "Index(['eggs', 'apples', 'milk', 'bread'], dtype='object')\n"
     ]
    }
   ],
   "source": [
    "print(groceries.values)\n",
    "print(groceries.index)"
   ]
  },
  {
   "cell_type": "code",
   "execution_count": 13,
   "metadata": {},
   "outputs": [
    {
     "name": "stdout",
     "output_type": "stream",
     "text": [
      "is banana an index? False\n"
     ]
    },
    {
     "data": {
      "text/plain": [
       "True"
      ]
     },
     "execution_count": 13,
     "metadata": {},
     "output_type": "execute_result"
    }
   ],
   "source": [
    "x = 'banana' in groceries\n",
    "print('is banana an index?',x)\n",
    "'bread' in groceries"
   ]
  },
  {
   "cell_type": "code",
   "execution_count": 22,
   "metadata": {},
   "outputs": [
    {
     "name": "stdout",
     "output_type": "stream",
     "text": [
      "how many eggs? 30\n",
      "how many mild and bread? milk     y\n",
      "bread    n\n",
      "dtype: object\n",
      "how many eggs&apples? eggs      30\n",
      "apples     6\n",
      "dtype: object\n",
      "how many eggs&apples? eggs      30\n",
      "apples     6\n",
      "dtype: object\n",
      "how many bread? bread    n\n",
      "dtype: object\n"
     ]
    }
   ],
   "source": [
    "print('how many eggs?',groceries['eggs'])\n",
    "print('how many mild and bread?',groceries[['milk','bread']])\n",
    "print('how many eggs&apples?',groceries.loc[['eggs','apples']])\n",
    "print('how many eggs&apples?',groceries.iloc[[0,1]])\n",
    "print('how many bread?',groceries.iloc[[-1]])"
   ]
  },
  {
   "cell_type": "code",
   "execution_count": 31,
   "metadata": {},
   "outputs": [
    {
     "name": "stdout",
     "output_type": "stream",
     "text": [
      "original eggs     2\n",
      "milk     y\n",
      "bread    n\n",
      "dtype: object\n",
      "modified eggs     2\n",
      "milk     y\n",
      "bread    n\n",
      "dtype: object\n",
      "current eggs     2\n",
      "milk     y\n",
      "bread    n\n",
      "dtype: object\n"
     ]
    }
   ],
   "source": [
    "print('original',groceries)\n",
    "groceries['eggs'] = 2\n",
    "print('modified',groceries)\n",
    "print('current',groceries)"
   ]
  },
  {
   "cell_type": "code",
   "execution_count": 35,
   "metadata": {},
   "outputs": [
    {
     "name": "stdout",
     "output_type": "stream",
     "text": [
      "original eggs      30\n",
      "apples     6\n",
      "milk       y\n",
      "bread      n\n",
      "dtype: object\n",
      "out place apples eggs     30\n",
      "milk      y\n",
      "bread     n\n",
      "dtype: object\n",
      "current eggs      30\n",
      "apples     6\n",
      "milk       y\n",
      "bread      n\n",
      "dtype: object\n"
     ]
    }
   ],
   "source": [
    "groceries = pd.Series(data=[30,6,'y','n'],index=['eggs','apples','milk','bread'])\n",
    "print('original',groceries)\n",
    "print('out place apples',groceries.drop('apples'))\n",
    "#by defaul is out of place, not change the original\n",
    "print('current',groceries)"
   ]
  },
  {
   "cell_type": "code",
   "execution_count": 36,
   "metadata": {},
   "outputs": [
    {
     "name": "stdout",
     "output_type": "stream",
     "text": [
      "original eggs      30\n",
      "apples     6\n",
      "milk       y\n",
      "bread      n\n",
      "dtype: object\n",
      "in place apples eggs     30\n",
      "milk      y\n",
      "bread     n\n",
      "dtype: object\n"
     ]
    }
   ],
   "source": [
    "groceries = pd.Series(data=[30,6,'y','n'],index=['eggs','apples','milk','bread'])\n",
    "print('original',groceries)\n",
    "groceries.drop('apples',inplace=True)\n",
    "#if inplace, change the original\n",
    "print('in place apples',groceries)"
   ]
  }
 ],
 "metadata": {
  "kernelspec": {
   "display_name": "Python 3",
   "language": "python",
   "name": "python3"
  },
  "language_info": {
   "codemirror_mode": {
    "name": "ipython",
    "version": 3
   },
   "file_extension": ".py",
   "mimetype": "text/x-python",
   "name": "python",
   "nbconvert_exporter": "python",
   "pygments_lexer": "ipython3",
   "version": "3.7.6"
  }
 },
 "nbformat": 4,
 "nbformat_minor": 4
}
