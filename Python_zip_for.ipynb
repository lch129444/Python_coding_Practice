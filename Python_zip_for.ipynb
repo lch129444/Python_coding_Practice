{
 "cells": [
  {
   "cell_type": "code",
   "execution_count": 3,
   "metadata": {},
   "outputs": [
    {
     "name": "stdout",
     "output_type": "stream",
     "text": [
      "[('bananas', 15), ('mattresses', 34), ('dog kennels', 42)]\n",
      "bananas 15\n",
      "mattresses 34\n",
      "dog kennels 42\n"
     ]
    }
   ],
   "source": [
    "items = ['bananas','mattresses','dog kennels']\n",
    "weights = [15,34,42]\n",
    "print(list(zip(items,weights)))\n",
    "\n",
    "for cargo in zip(items,weights):\n",
    "    print(cargo[0],cargo[1])"
   ]
  },
  {
   "cell_type": "code",
   "execution_count": 4,
   "metadata": {},
   "outputs": [
    {
     "name": "stdout",
     "output_type": "stream",
     "text": [
      "('bananas', 'mattresses', 'dog kennels')\n",
      "(15, 34, 42)\n"
     ]
    }
   ],
   "source": [
    "manifest =[('bananas',15),('mattresses',34),('dog kennels',42)]\n",
    "items,weights = zip(*manifest)\n",
    "print(items)\n",
    "print(weights)"
   ]
  }
 ],
 "metadata": {
  "kernelspec": {
   "display_name": "Python 3",
   "language": "python",
   "name": "python3"
  },
  "language_info": {
   "codemirror_mode": {
    "name": "ipython",
    "version": 3
   },
   "file_extension": ".py",
   "mimetype": "text/x-python",
   "name": "python",
   "nbconvert_exporter": "python",
   "pygments_lexer": "ipython3",
   "version": "3.7.6"
  }
 },
 "nbformat": 4,
 "nbformat_minor": 4
}
