{
 "cells": [
  {
   "cell_type": "code",
   "execution_count": 4,
   "metadata": {},
   "outputs": [
    {
     "name": "stdout",
     "output_type": "stream",
     "text": [
      "[[1 2 3]\n",
      " [4 5 6]\n",
      " [7 8 9]]\n",
      "1 2 9\n"
     ]
    }
   ],
   "source": [
    "import numpy as np\n",
    "x = np.array([[1,2,3,],[4,5,6],[7,8,9]])\n",
    "print(x)\n",
    "print(x[0,0],x[0,1],x[2,2])"
   ]
  },
  {
   "cell_type": "code",
   "execution_count": 7,
   "metadata": {},
   "outputs": [
    {
     "name": "stdout",
     "output_type": "stream",
     "text": [
      "[1, 2, 3, 20, 5, 6, 9]\n"
     ]
    }
   ],
   "source": [
    "x = [1,2,3,4,5,6,9]\n",
    "x[3] = 20\n",
    "print(x)"
   ]
  },
  {
   "cell_type": "code",
   "execution_count": 9,
   "metadata": {},
   "outputs": [
    {
     "name": "stdout",
     "output_type": "stream",
     "text": [
      "original [[1 2 3]\n",
      " [4 5 6]\n",
      " [7 8 9]]\n",
      "changed [[20  2  3]\n",
      " [ 4  5  6]\n",
      " [ 7  8  9]]\n"
     ]
    }
   ],
   "source": [
    "x = np.array([[1,2,3],[4,5,6],[7,8,9]])\n",
    "print('original',x)\n",
    "x[0,0] = 20\n",
    "print('changed',x)"
   ]
  },
  {
   "cell_type": "code",
   "execution_count": 11,
   "metadata": {},
   "outputs": [
    {
     "name": "stdout",
     "output_type": "stream",
     "text": [
      "original x [1 2 3 4 5 6 7 8]\n",
      "modified x [2 3 4 6 7 8]\n",
      "original y [[1 2 3]\n",
      " [4 5 6]\n",
      " [7 8 9]]\n",
      "modified y [[4 5 6]\n",
      " [7 8 9]]\n"
     ]
    }
   ],
   "source": [
    "x = np.array([1,2,3,4,5,6,7,8])\n",
    "y = np.array([[1,2,3],[4,5,6],[7,8,9]])\n",
    "print('original x',x)\n",
    "x = np.delete(x,[0,4])\n",
    "#first row, the fifth element\n",
    "print('modified x',x)\n",
    "print('original y',y)\n",
    "y = np.delete(y,0,axis=0)\n",
    "#the first row\n",
    "print('modified y',y)"
   ]
  },
  {
   "cell_type": "code",
   "execution_count": 22,
   "metadata": {},
   "outputs": [
    {
     "name": "stdout",
     "output_type": "stream",
     "text": [
      "append x [2 3 4 6 7 8 6 6 7 8 6 7 8 6 7 8 6 7 8 6 7 8 6]\n",
      "append 2 x [2 3 4 6 7 8 6 6 7 8 6 7 8 6 7 8 6 7 8 6 7 8 6 7 8]\n",
      "append y [[ 4  5  6]\n",
      " [ 7  8  9]\n",
      " [10 11 12]]\n",
      "append y [[ 4  5  6 13]\n",
      " [ 7  8  9 14]]\n"
     ]
    }
   ],
   "source": [
    "x = np.append(x,6)\n",
    "print('append x',x)\n",
    "x = np.append(x,[7,8])\n",
    "print('append 2 x',x)\n",
    "v = np.append(y,[[10,11,12]],axis=0)\n",
    "print('append y', v)\n",
    "w = np.append(y,[[13],[14]],axis=1)\n",
    "print('append y',w)"
   ]
  },
  {
   "cell_type": "code",
   "execution_count": 24,
   "metadata": {},
   "outputs": [
    {
     "name": "stdout",
     "output_type": "stream",
     "text": [
      "insert [2 3 3 4 3 4 4 6 7 8 6 6 7 8 6 7 8 6 7 8 6 7 8 6 7 8 6 7 8]\n",
      "insert [[4 5 6]\n",
      " [2 2 2]\n",
      " [7 8 9]]\n"
     ]
    }
   ],
   "source": [
    "x = np.insert(x,2,[3,4])\n",
    "#insert infront of the 3rd element\n",
    "print('insert',x)\n",
    "y = np.insert(y,1,[2,2,2],axis=0)\n",
    "#insert infront of 2nd row\n",
    "print('insert',y)"
   ]
  }
 ],
 "metadata": {
  "kernelspec": {
   "display_name": "Python 3",
   "language": "python",
   "name": "python3"
  },
  "language_info": {
   "codemirror_mode": {
    "name": "ipython",
    "version": 3
   },
   "file_extension": ".py",
   "mimetype": "text/x-python",
   "name": "python",
   "nbconvert_exporter": "python",
   "pygments_lexer": "ipython3",
   "version": "3.7.6"
  }
 },
 "nbformat": 4,
 "nbformat_minor": 4
}
