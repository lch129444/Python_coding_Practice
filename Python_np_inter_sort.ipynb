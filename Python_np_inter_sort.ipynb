{
 "cells": [
  {
   "cell_type": "code",
   "execution_count": 4,
   "metadata": {},
   "outputs": [
    {
     "name": "stdout",
     "output_type": "stream",
     "text": [
      "[1 2 3 4 5 6] [4 6 3 7 2 6]\n",
      "in both [2 3 4 6]\n",
      "in x not y [1 5]\n",
      "all in x & y [1 2 3 4 5 6 7]\n"
     ]
    }
   ],
   "source": [
    "import numpy as np\n",
    "x = np.array([1,2,3,4,5,6])\n",
    "y = np.array([4,6,3,7,2,6])\n",
    "print(x,y)\n",
    "print('in both',np.intersect1d(x,y))\n",
    "print('in x not y',np.setdiff1d(x,y))\n",
    "print('all in x & y',np.union1d(x,y))"
   ]
  },
  {
   "cell_type": "code",
   "execution_count": 16,
   "metadata": {},
   "outputs": [
    {
     "name": "stdout",
     "output_type": "stream",
     "text": [
      "original x [ 9  1  6  4  2  3 10  8  9  5]\n",
      "sort [ 1  2  3  4  5  6  8  9  9 10]\n",
      "after sort x [ 9  1  6  4  2  3 10  8  9  5]\n",
      "[ 1  2  3  4  5  6  8  9  9 10]\n"
     ]
    }
   ],
   "source": [
    "x = np.random.randint(1,11,size = (10,))\n",
    "print('original x',x)\n",
    "print('sort',np.sort(x))\n",
    "print('after sort x',x)\n",
    "#sort()would not change the original\n",
    "x.sort()\n",
    "print(x)\n",
    "# sort in place,changed the original"
   ]
  },
  {
   "cell_type": "code",
   "execution_count": 18,
   "metadata": {},
   "outputs": [
    {
     "name": "stdout",
     "output_type": "stream",
     "text": [
      "original x [[ 4  9  5  1 10]\n",
      " [ 2  6  8  1  4]\n",
      " [ 6  7  1  6  9]\n",
      " [ 7  5 10  1  9]\n",
      " [ 7  3  5  4  3]]\n",
      "column [[ 2  3  1  1  3]\n",
      " [ 4  5  5  1  4]\n",
      " [ 6  6  5  1  9]\n",
      " [ 7  7  8  4  9]\n",
      " [ 7  9 10  6 10]]\n",
      "rows [[ 1  4  5  9 10]\n",
      " [ 1  2  4  6  8]\n",
      " [ 1  6  6  7  9]\n",
      " [ 1  5  7  9 10]\n",
      " [ 3  3  4  5  7]]\n"
     ]
    }
   ],
   "source": [
    "x = np.random.randint(1,11,size = (5,5))\n",
    "print('original x',x)\n",
    "print('column',np.sort(x,axis=0))\n",
    "print('rows',np.sort(x,axis=1))"
   ]
  },
  {
   "cell_type": "code",
   "execution_count": 20,
   "metadata": {},
   "outputs": [
    {
     "name": "stdout",
     "output_type": "stream",
     "text": [
      "[[19 13  2 25  9]\n",
      " [ 5 22 16  6 10]\n",
      " [23  3  8 21 15]\n",
      " [14 15 18 24  2]\n",
      " [ 7 15 11  7 18]]\n",
      "[19 13 25  9  5 23  3 21 15 15  7 15 11  7]\n"
     ]
    }
   ],
   "source": [
    "x = np.random.randint(1,26,size = (5,5))\n",
    "y = x[x%2 == 1]\n",
    "print(x)\n",
    "print(y)"
   ]
  }
 ],
 "metadata": {
  "kernelspec": {
   "display_name": "Python 3",
   "language": "python",
   "name": "python3"
  },
  "language_info": {
   "codemirror_mode": {
    "name": "ipython",
    "version": 3
   },
   "file_extension": ".py",
   "mimetype": "text/x-python",
   "name": "python",
   "nbconvert_exporter": "python",
   "pygments_lexer": "ipython3",
   "version": "3.7.6"
  }
 },
 "nbformat": 4,
 "nbformat_minor": 4
}
