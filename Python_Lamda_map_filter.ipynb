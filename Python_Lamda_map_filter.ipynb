{
 "cells": [
  {
   "cell_type": "code",
   "execution_count": 4,
   "metadata": {},
   "outputs": [
    {
     "data": {
      "text/plain": [
       "8"
      ]
     },
     "execution_count": 4,
     "metadata": {},
     "output_type": "execute_result"
    }
   ],
   "source": [
    "multiply = lambda x,y : x *y\n",
    "multiply(2,4)\n",
    "#lambda is good for simple function"
   ]
  },
  {
   "cell_type": "code",
   "execution_count": 12,
   "metadata": {},
   "outputs": [
    {
     "name": "stdout",
     "output_type": "stream",
     "text": [
      "[51.0, 36.0, 205.0]\n"
     ]
    }
   ],
   "source": [
    "numbers = [\n",
    "    [34,62,57],\n",
    "    [28,71,9],\n",
    "    [22,3,590]\n",
    "        ]\n",
    "def mean(num_list):\n",
    "    return sum(num_list)/len(num_list)\n",
    "average = list(map(mean,numbers))\n",
    "print(average)"
   ]
  },
  {
   "cell_type": "code",
   "execution_count": 15,
   "metadata": {},
   "outputs": [
    {
     "name": "stdout",
     "output_type": "stream",
     "text": [
      "[51.0, 36.0, 205.0]\n"
     ]
    }
   ],
   "source": [
    "numbers = [\n",
    "    [34,62,57],\n",
    "    [28,71,9],\n",
    "    [22,3,590]\n",
    "        ]\n",
    "average = list(map(lambda x:sum(x)/len(x), numbers))\n",
    "print(average)\n",
    "#lambda is also good for high order function like map which takes a function and iterable"
   ]
  },
  {
   "cell_type": "code",
   "execution_count": 18,
   "metadata": {},
   "outputs": [
    {
     "name": "stdout",
     "output_type": "stream",
     "text": [
      "['beijing']\n"
     ]
    }
   ],
   "source": [
    "cities = ['Log Angelas','New York city', 'xi lin guo le','beijing']\n",
    "def is_short(name):\n",
    "    return len(name)<10\n",
    "short_cities = list(filter(is_short,cities))\n",
    "print(short_cities)"
   ]
  },
  {
   "cell_type": "code",
   "execution_count": 19,
   "metadata": {},
   "outputs": [
    {
     "name": "stdout",
     "output_type": "stream",
     "text": [
      "['beijing']\n"
     ]
    }
   ],
   "source": [
    "cities = ['Log Angelas','New York city', 'xi lin guo le','beijing']\n",
    "short_cities = list(filter(lambda x:len(x)<10,cities))\n",
    "print(short_cities)"
   ]
  }
 ],
 "metadata": {
  "kernelspec": {
   "display_name": "Python 3",
   "language": "python",
   "name": "python3"
  },
  "language_info": {
   "codemirror_mode": {
    "name": "ipython",
    "version": 3
   },
   "file_extension": ".py",
   "mimetype": "text/x-python",
   "name": "python",
   "nbconvert_exporter": "python",
   "pygments_lexer": "ipython3",
   "version": "3.7.6"
  }
 },
 "nbformat": 4,
 "nbformat_minor": 4
}
