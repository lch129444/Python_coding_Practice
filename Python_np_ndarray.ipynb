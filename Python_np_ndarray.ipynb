{
 "cells": [
  {
   "cell_type": "code",
   "execution_count": 3,
   "metadata": {},
   "outputs": [
    {
     "name": "stdout",
     "output_type": "stream",
     "text": [
      "[1 2 3 4 5]\n",
      "x has dimensions of: (5,)\n",
      "x is an object of type: <class 'numpy.ndarray'>\n"
     ]
    }
   ],
   "source": [
    "import numpy as np\n",
    "x = np.array([1,2,3,4,5])\n",
    "print(x)\n",
    "print('x has dimensions of:',x.shape)\n",
    "print('x is an object of type:',type(x))"
   ]
  },
  {
   "cell_type": "code",
   "execution_count": 5,
   "metadata": {},
   "outputs": [
    {
     "name": "stdout",
     "output_type": "stream",
     "text": [
      "['Hello' '1' '2']\n",
      "x has dimensions of: (3,)\n",
      "x is an object of type: <class 'numpy.ndarray'>\n"
     ]
    }
   ],
   "source": [
    "x = np.array(['Hello',1,2])\n",
    "print(x)\n",
    "print('x has dimensions of:',x.shape)\n",
    "print('x is an object of type:',type(x))"
   ]
  },
  {
   "cell_type": "code",
   "execution_count": 12,
   "metadata": {},
   "outputs": [
    {
     "name": "stdout",
     "output_type": "stream",
     "text": [
      "y=\n",
      " [[ 1  2  3]\n",
      " [ 4  5  5]\n",
      " [ 7  8  9]\n",
      " [ 4 10 11]]\n",
      "y has dimension: (4, 3)\n",
      "y has a total of: 12 elements\n",
      "y is an object of type: <class 'numpy.ndarray'>\n",
      "the element are of type: int64\n"
     ]
    }
   ],
   "source": [
    "y = np.array([[1,2,3],[4,5,5],[7,8,9],[4,10,11]])\n",
    "print('y=\\n',y)\n",
    "print('y has dimension:',y.shape)\n",
    "print('y has a total of:',y.size,'elements')\n",
    "print('y is an object of type:',type(y))\n",
    "print('the element are of type:',y.dtype)"
   ]
  },
  {
   "cell_type": "code",
   "execution_count": 14,
   "metadata": {},
   "outputs": [
    {
     "name": "stdout",
     "output_type": "stream",
     "text": [
      "[1 2 3 5 6]\n",
      "int64\n"
     ]
    }
   ],
   "source": [
    "x = np.array([1.5,2.2,3,5,6],dtype=np.int64)\n",
    "print(x)\n",
    "print(x.dtype)"
   ]
  }
 ],
 "metadata": {
  "kernelspec": {
   "display_name": "Python 3",
   "language": "python",
   "name": "python3"
  },
  "language_info": {
   "codemirror_mode": {
    "name": "ipython",
    "version": 3
   },
   "file_extension": ".py",
   "mimetype": "text/x-python",
   "name": "python",
   "nbconvert_exporter": "python",
   "pygments_lexer": "ipython3",
   "version": "3.7.6"
  }
 },
 "nbformat": 4,
 "nbformat_minor": 4
}
