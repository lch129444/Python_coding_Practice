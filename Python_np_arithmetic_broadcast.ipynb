{
 "cells": [
  {
   "cell_type": "code",
   "execution_count": 8,
   "metadata": {},
   "outputs": [
    {
     "name": "stdout",
     "output_type": "stream",
     "text": [
      "[1 2 3 4 5 6] [ 5.5  6.5  7.5  8.5  9.5 10.5]\n",
      "[ 6.5  8.5 10.5 12.5 14.5 16.5]\n",
      "add [ 6.5  8.5 10.5 12.5 14.5 16.5]\n",
      "[-4.5 -4.5 -4.5 -4.5 -4.5 -4.5]\n",
      "sub [-4.5 -4.5 -4.5 -4.5 -4.5 -4.5]\n",
      "[ 5.5 13.  22.5 34.  47.5 63. ]\n",
      "multi [ 5.5 13.  22.5 34.  47.5 63. ]\n",
      "[0.18181818 0.30769231 0.4        0.47058824 0.52631579 0.57142857]\n",
      "div [0.18181818 0.30769231 0.4        0.47058824 0.52631579 0.57142857]\n"
     ]
    }
   ],
   "source": [
    "import numpy as np\n",
    "x = np.array([1,2,3,4,5,6])\n",
    "y = np.array([5.5,6.5,7.5,8.5,9.5,10.5])\n",
    "print(x,y)\n",
    "print(x + y)\n",
    "print('add',np.add(x,y))\n",
    "print(x - y)\n",
    "print('sub',np.subtract(x,y))\n",
    "print(x * y)\n",
    "print('multi',np.multiply(x,y))\n",
    "print(x / y)\n",
    "print('div',np.divide(x,y))"
   ]
  },
  {
   "cell_type": "code",
   "execution_count": 19,
   "metadata": {},
   "outputs": [
    {
     "name": "stdout",
     "output_type": "stream",
     "text": [
      "[[1 2]\n",
      " [3 4]] [[5.5 6.5]\n",
      " [7.5 8.5]]\n",
      "[[ 6.5  8.5]\n",
      " [10.5 12.5]]\n",
      "[[-4.5 -4.5]\n",
      " [-4.5 -4.5]]\n",
      "[[ 5.5 13. ]\n",
      " [22.5 34. ]]\n",
      "[[0.18181818 0.30769231]\n",
      " [0.4        0.47058824]]\n"
     ]
    }
   ],
   "source": [
    "import numpy as np\n",
    "x = np.array([1,2,3,4]).reshape(2,2)\n",
    "y = np.array([5.5,6.5,7.5,8.5]).reshape(2,2)\n",
    "print(x,y)\n",
    "print(x + y)\n",
    "print(x - y)\n",
    "print(x * y)\n",
    "print(x / y)"
   ]
  },
  {
   "cell_type": "code",
   "execution_count": 21,
   "metadata": {},
   "outputs": [
    {
     "name": "stdout",
     "output_type": "stream",
     "text": [
      "[1 2 3 4]\n",
      "exe [ 2.71828183  7.3890561  20.08553692 54.59815003]\n",
      "SQRT [1.         1.41421356 1.73205081 2.        ]\n",
      "POW [ 1  8 27 64]\n"
     ]
    }
   ],
   "source": [
    "x = np.array([1,2,3,4])\n",
    "print(x)\n",
    "print('exe',np.exp(x))\n",
    "print('SQRT',np.sqrt(x))\n",
    "print('POW',np.power(x,3))"
   ]
  },
  {
   "cell_type": "code",
   "execution_count": 32,
   "metadata": {},
   "outputs": [
    {
     "name": "stdout",
     "output_type": "stream",
     "text": [
      "[[1 2]\n",
      " [3 4]]\n",
      "all avg 2.5\n",
      "column avg [2. 3.]\n",
      "row avg [1.5 3.5]\n",
      "all sum 10\n",
      "column sum [4 6]\n",
      "row sum [3 7]\n",
      "all std 1.118033988749895\n",
      "column std [1. 1.]\n",
      "row std [0.5 0.5]\n",
      "all med 2.5\n",
      "column med [2. 3.]\n",
      "row med [1.5 3.5]\n",
      "all max 4\n",
      "column max [3 4]\n",
      "row max [2 4]\n",
      "all min 1\n",
      "column min [1 2]\n",
      "row min [1 3]\n"
     ]
    }
   ],
   "source": [
    "x = np.array([[1,2],[3,4]])\n",
    "print(x)\n",
    "print('all avg',x.mean())\n",
    "print('column avg',x.mean(axis=0))\n",
    "print('row avg',x.mean(axis=1))\n",
    "print('all sum',x.sum())\n",
    "print('column sum',x.sum(axis=0))\n",
    "print('row sum',x.sum(axis=1))\n",
    "print('all std',x.std())\n",
    "print('column std',x.std(axis=0))\n",
    "print('row std',x.std(axis=1))\n",
    "#median is different\n",
    "print('all med',np.median(x))\n",
    "print('column med',np.median(x,axis=0))\n",
    "print('row med',np.median(x,axis=1))\n",
    "print('all max',x.max())\n",
    "print('column max',x.max(axis=0))\n",
    "print('row max',x.max(axis=1))\n",
    "print('all min',x.min())\n",
    "print('column min',x.min(axis=0))\n",
    "print('row min',x.min(axis=1))"
   ]
  },
  {
   "cell_type": "code",
   "execution_count": 35,
   "metadata": {},
   "outputs": [
    {
     "name": "stdout",
     "output_type": "stream",
     "text": [
      "[[1 2]\n",
      " [3 4]]\n",
      "[[4 5]\n",
      " [6 7]]\n",
      "[[-2 -1]\n",
      " [ 0  1]]\n",
      "[[ 3  6]\n",
      " [ 9 12]]\n",
      "[[0.33333333 0.66666667]\n",
      " [1.         1.33333333]]\n"
     ]
    }
   ],
   "source": [
    "x = np.array([[1,2],[3,4]])\n",
    "print(x)\n",
    "print(x + 3)\n",
    "print(x - 3)\n",
    "print(x * 3)\n",
    "print(x / 3)"
   ]
  },
  {
   "cell_type": "code",
   "execution_count": 38,
   "metadata": {},
   "outputs": [
    {
     "name": "stdout",
     "output_type": "stream",
     "text": [
      "[1 2 3]\n",
      "[[1 2 3]\n",
      " [4 5 6]\n",
      " [7 8 9]]\n",
      "[[1]\n",
      " [2]\n",
      " [3]]\n",
      "x+y [[ 2  4  6]\n",
      " [ 5  7  9]\n",
      " [ 8 10 12]]\n",
      "y+z [[ 2  3  4]\n",
      " [ 6  7  8]\n",
      " [10 11 12]]\n"
     ]
    }
   ],
   "source": [
    "x = np.array([1,2,3])\n",
    "y = np.array([[1,2,3],[4,5,6],[7,8,9]])\n",
    "z = np.array([1,2,3]).reshape(3,1)\n",
    "print(x)\n",
    "print(y)\n",
    "print(z)\n",
    "print('x+y',x + y)\n",
    "print('y+z',y + z)"
   ]
  },
  {
   "cell_type": "code",
   "execution_count": 40,
   "metadata": {},
   "outputs": [
    {
     "name": "stdout",
     "output_type": "stream",
     "text": [
      "[[1 2 3 4]\n",
      " [1 2 3 4]\n",
      " [1 2 3 4]\n",
      " [1 2 3 4]]\n"
     ]
    }
   ],
   "source": [
    "x = np.full((4,4),1)*[1,2,3,4]\n",
    "print(x)"
   ]
  },
  {
   "cell_type": "code",
   "execution_count": 42,
   "metadata": {},
   "outputs": [
    {
     "name": "stdout",
     "output_type": "stream",
     "text": [
      "[[1. 2. 3. 4.]\n",
      " [1. 2. 3. 4.]\n",
      " [1. 2. 3. 4.]\n",
      " [1. 2. 3. 4.]]\n"
     ]
    }
   ],
   "source": [
    "x = np.ones((4,4))*np.arange(1,5)\n",
    "print(x)"
   ]
  }
 ],
 "metadata": {
  "kernelspec": {
   "display_name": "Python 3",
   "language": "python",
   "name": "python3"
  },
  "language_info": {
   "codemirror_mode": {
    "name": "ipython",
    "version": 3
   },
   "file_extension": ".py",
   "mimetype": "text/x-python",
   "name": "python",
   "nbconvert_exporter": "python",
   "pygments_lexer": "ipython3",
   "version": "3.7.6"
  }
 },
 "nbformat": 4,
 "nbformat_minor": 4
}
