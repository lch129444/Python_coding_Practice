{
 "cells": [
  {
   "cell_type": "code",
   "execution_count": 10,
   "metadata": {},
   "outputs": [
    {
     "name": "stdout",
     "output_type": "stream",
     "text": [
      "['Great Expectations' 'The Time Machine']\n"
     ]
    }
   ],
   "source": [
    "import pandas as pd\n",
    "import numpy as np\n",
    "\n",
    "pd.set_option('precision', 1)\n",
    "#the precision to be one decimal\n",
    "\n",
    "books = pd.Series(data = ['Great Expectations', 'Of Mice and Men', 'Romeo and Juliet', 'The Time Machine', 'Alice in Wonderland' ])\n",
    "authors = pd.Series(data = ['Charles Dickens', 'John Steinbeck', 'William Shakespeare', ' H. G. Wells', 'Lewis Carroll' ])\n",
    "user_1 = pd.Series(data = [3.2, np.nan ,2.5])\n",
    "#create some NaN\n",
    "user_2 = pd.Series(data = [5., 1.3, 4.0, 3.8])\n",
    "user_3 = pd.Series(data = [2.0, 2.3, np.nan, 4])\n",
    "user_4 = pd.Series(data = [4, 3.5, 4, 5, 4.2])\n",
    "\n",
    "dat = {'Book Title' : books,\n",
    "       'Author' : authors,\n",
    "       'User 1' : user_1,\n",
    "       'User 2' : user_2,\n",
    "       'User 3' : user_3,\n",
    "       'User 4' : user_4}\n",
    "\n",
    "book_ratings = pd.DataFrame(dat)\n",
    "#create dataframe by dictionary of series\n",
    "\n",
    "book_ratings.fillna(book_ratings.mean(), axis=0, inplace = True)\n",
    "#fill with previous and after rows' mean\n",
    "\n",
    "best_rated = book_ratings[(book_ratings == 5).any(axis = 1)]['Book Title'].values\n",
    "#best book is a book with rating 5 given by any user\n",
    "#data.any if data exists in any column, true;return the related whole rows\n",
    "#to create a dataframe, then pick title column to create ndarry, then retrieve the values only\n",
    "print(best_rated)"
   ]
  },
  {
   "cell_type": "code",
   "execution_count": 8,
   "metadata": {},
   "outputs": [
    {
     "name": "stdout",
     "output_type": "stream",
     "text": [
      "           Book Title           Author  User 1  User 2  User 3  User 4\n",
      "0  Great Expectations  Charles Dickens     3.2     5.0     2.0     4.0\n",
      "3    The Time Machine      H. G. Wells     2.9     3.8     4.0     5.0\n"
     ]
    }
   ],
   "source": [
    "best_rated_ndarray = book_ratings[(book_ratings == 5).any(axis = 1)]\n",
    "print(best_rated_ndarray)"
   ]
  },
  {
   "cell_type": "code",
   "execution_count": 9,
   "metadata": {},
   "outputs": [
    {
     "name": "stdout",
     "output_type": "stream",
     "text": [
      "0    Great Expectations\n",
      "3      The Time Machine\n",
      "Name: Book Title, dtype: object\n"
     ]
    }
   ],
   "source": [
    "best_rated_books = book_ratings[(book_ratings == 5).any(axis = 1)]['Book Title']\n",
    "#ndarray which only contains the names of the books of rating 5\n",
    "print(best_rated_books)"
   ]
  }
 ],
 "metadata": {
  "kernelspec": {
   "display_name": "Python 3",
   "language": "python",
   "name": "python3"
  },
  "language_info": {
   "codemirror_mode": {
    "name": "ipython",
    "version": 3
   },
   "file_extension": ".py",
   "mimetype": "text/x-python",
   "name": "python",
   "nbconvert_exporter": "python",
   "pygments_lexer": "ipython3",
   "version": "3.7.6"
  }
 },
 "nbformat": 4,
 "nbformat_minor": 4
}
